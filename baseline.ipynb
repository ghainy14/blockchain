{
 "cells": [
  {
   "cell_type": "code",
   "execution_count": null,
   "metadata": {
    "id": "sHDDfgsj51i7",
    "outputId": "7db5d53a-5e17-41ec-c95b-a77a58778962"
   },
   "outputs": [
    {
     "name": "stdout",
     "output_type": "stream",
     "text": [
      "Requirement already satisfied: tensorflow in /Library/Frameworks/Python.framework/Versions/3.12/lib/python3.12/site-packages (2.16.2)\n",
      "Requirement already satisfied: absl-py>=1.0.0 in /Library/Frameworks/Python.framework/Versions/3.12/lib/python3.12/site-packages (from tensorflow) (2.1.0)\n",
      "Requirement already satisfied: astunparse>=1.6.0 in /Library/Frameworks/Python.framework/Versions/3.12/lib/python3.12/site-packages (from tensorflow) (1.6.3)\n",
      "Requirement already satisfied: flatbuffers>=23.5.26 in /Library/Frameworks/Python.framework/Versions/3.12/lib/python3.12/site-packages (from tensorflow) (25.2.10)\n",
      "Requirement already satisfied: gast!=0.5.0,!=0.5.1,!=0.5.2,>=0.2.1 in /Library/Frameworks/Python.framework/Versions/3.12/lib/python3.12/site-packages (from tensorflow) (0.6.0)\n",
      "Requirement already satisfied: google-pasta>=0.1.1 in /Library/Frameworks/Python.framework/Versions/3.12/lib/python3.12/site-packages (from tensorflow) (0.2.0)\n",
      "Requirement already satisfied: h5py>=3.10.0 in /Library/Frameworks/Python.framework/Versions/3.12/lib/python3.12/site-packages (from tensorflow) (3.13.0)\n",
      "Requirement already satisfied: libclang>=13.0.0 in /Library/Frameworks/Python.framework/Versions/3.12/lib/python3.12/site-packages (from tensorflow) (18.1.1)\n",
      "Requirement already satisfied: ml-dtypes~=0.3.1 in /Library/Frameworks/Python.framework/Versions/3.12/lib/python3.12/site-packages (from tensorflow) (0.3.2)\n",
      "Requirement already satisfied: opt-einsum>=2.3.2 in /Library/Frameworks/Python.framework/Versions/3.12/lib/python3.12/site-packages (from tensorflow) (3.4.0)\n",
      "Requirement already satisfied: packaging in /Users/codehunter/Library/Python/3.12/lib/python/site-packages (from tensorflow) (24.2)\n",
      "Requirement already satisfied: protobuf!=4.21.0,!=4.21.1,!=4.21.2,!=4.21.3,!=4.21.4,!=4.21.5,<5.0.0dev,>=3.20.3 in /Library/Frameworks/Python.framework/Versions/3.12/lib/python3.12/site-packages (from tensorflow) (4.25.6)\n",
      "Requirement already satisfied: requests<3,>=2.21.0 in /Library/Frameworks/Python.framework/Versions/3.12/lib/python3.12/site-packages (from tensorflow) (2.32.3)\n",
      "Requirement already satisfied: setuptools in /Library/Frameworks/Python.framework/Versions/3.12/lib/python3.12/site-packages (from tensorflow) (75.8.2)\n",
      "Requirement already satisfied: six>=1.12.0 in /Users/codehunter/Library/Python/3.12/lib/python/site-packages (from tensorflow) (1.17.0)\n",
      "Requirement already satisfied: termcolor>=1.1.0 in /Library/Frameworks/Python.framework/Versions/3.12/lib/python3.12/site-packages (from tensorflow) (2.5.0)\n",
      "Requirement already satisfied: typing-extensions>=3.6.6 in /Library/Frameworks/Python.framework/Versions/3.12/lib/python3.12/site-packages (from tensorflow) (4.12.2)\n",
      "Requirement already satisfied: wrapt>=1.11.0 in /Library/Frameworks/Python.framework/Versions/3.12/lib/python3.12/site-packages (from tensorflow) (1.17.2)\n",
      "Requirement already satisfied: grpcio<2.0,>=1.24.3 in /Library/Frameworks/Python.framework/Versions/3.12/lib/python3.12/site-packages (from tensorflow) (1.70.0)\n",
      "Requirement already satisfied: tensorboard<2.17,>=2.16 in /Library/Frameworks/Python.framework/Versions/3.12/lib/python3.12/site-packages (from tensorflow) (2.16.2)\n",
      "Requirement already satisfied: keras>=3.0.0 in /Library/Frameworks/Python.framework/Versions/3.12/lib/python3.12/site-packages (from tensorflow) (3.9.0)\n",
      "Requirement already satisfied: numpy<2.0.0,>=1.26.0 in /Library/Frameworks/Python.framework/Versions/3.12/lib/python3.12/site-packages (from tensorflow) (1.26.4)\n",
      "Requirement already satisfied: wheel<1.0,>=0.23.0 in /Library/Frameworks/Python.framework/Versions/3.12/lib/python3.12/site-packages (from astunparse>=1.6.0->tensorflow) (0.45.1)\n",
      "Requirement already satisfied: rich in /Library/Frameworks/Python.framework/Versions/3.12/lib/python3.12/site-packages (from keras>=3.0.0->tensorflow) (13.9.4)\n",
      "Requirement already satisfied: namex in /Library/Frameworks/Python.framework/Versions/3.12/lib/python3.12/site-packages (from keras>=3.0.0->tensorflow) (0.0.8)\n",
      "Requirement already satisfied: optree in /Library/Frameworks/Python.framework/Versions/3.12/lib/python3.12/site-packages (from keras>=3.0.0->tensorflow) (0.14.1)\n",
      "Requirement already satisfied: charset-normalizer<4,>=2 in /Library/Frameworks/Python.framework/Versions/3.12/lib/python3.12/site-packages (from requests<3,>=2.21.0->tensorflow) (3.4.1)\n",
      "Requirement already satisfied: idna<4,>=2.5 in /Library/Frameworks/Python.framework/Versions/3.12/lib/python3.12/site-packages (from requests<3,>=2.21.0->tensorflow) (3.10)\n",
      "Requirement already satisfied: urllib3<3,>=1.21.1 in /Library/Frameworks/Python.framework/Versions/3.12/lib/python3.12/site-packages (from requests<3,>=2.21.0->tensorflow) (2.3.0)\n",
      "Requirement already satisfied: certifi>=2017.4.17 in /Library/Frameworks/Python.framework/Versions/3.12/lib/python3.12/site-packages (from requests<3,>=2.21.0->tensorflow) (2025.1.31)\n",
      "Requirement already satisfied: markdown>=2.6.8 in /Library/Frameworks/Python.framework/Versions/3.12/lib/python3.12/site-packages (from tensorboard<2.17,>=2.16->tensorflow) (3.7)\n",
      "Requirement already satisfied: tensorboard-data-server<0.8.0,>=0.7.0 in /Library/Frameworks/Python.framework/Versions/3.12/lib/python3.12/site-packages (from tensorboard<2.17,>=2.16->tensorflow) (0.7.2)\n",
      "Requirement already satisfied: werkzeug>=1.0.1 in /Library/Frameworks/Python.framework/Versions/3.12/lib/python3.12/site-packages (from tensorboard<2.17,>=2.16->tensorflow) (3.1.3)\n",
      "Requirement already satisfied: MarkupSafe>=2.1.1 in /Library/Frameworks/Python.framework/Versions/3.12/lib/python3.12/site-packages (from werkzeug>=1.0.1->tensorboard<2.17,>=2.16->tensorflow) (3.0.2)\n",
      "Requirement already satisfied: markdown-it-py>=2.2.0 in /Library/Frameworks/Python.framework/Versions/3.12/lib/python3.12/site-packages (from rich->keras>=3.0.0->tensorflow) (3.0.0)\n",
      "Requirement already satisfied: pygments<3.0.0,>=2.13.0 in /Users/codehunter/Library/Python/3.12/lib/python/site-packages (from rich->keras>=3.0.0->tensorflow) (2.19.1)\n",
      "Requirement already satisfied: mdurl~=0.1 in /Library/Frameworks/Python.framework/Versions/3.12/lib/python3.12/site-packages (from markdown-it-py>=2.2.0->rich->keras>=3.0.0->tensorflow) (0.1.2)\n",
      "\n",
      "\u001b[1m[\u001b[0m\u001b[34;49mnotice\u001b[0m\u001b[1;39;49m]\u001b[0m\u001b[39;49m A new release of pip is available: \u001b[0m\u001b[31;49m24.2\u001b[0m\u001b[39;49m -> \u001b[0m\u001b[32;49m25.0.1\u001b[0m\n",
      "\u001b[1m[\u001b[0m\u001b[34;49mnotice\u001b[0m\u001b[1;39;49m]\u001b[0m\u001b[39;49m To update, run: \u001b[0m\u001b[32;49mpython3.12 -m pip install --upgrade pip\u001b[0m\n"
     ]
    }
   ],
   "source": [
    "!pip3 install tensorflow"
   ]
  },
  {
   "cell_type": "code",
   "execution_count": null,
   "metadata": {
    "id": "9Lh5fa5f51jQ"
   },
   "outputs": [],
   "source": [
    "import os\n",
    "import pandas as pd\n",
    "import numpy as np\n",
    "import tensorflow as tf\n",
    "from tensorflow.keras.models import Sequential, load_model\n",
    "from tensorflow.keras.layers import Dense, Input\n",
    "from tensorflow.keras.optimizers import Adam\n",
    "from sklearn.metrics import accuracy_score, precision_score, recall_score, f1_score, confusion_matrix, roc_auc_score\n",
    "import time, hashlib, json\n",
    "import matplotlib.pyplot as plt"
   ]
  },
  {
   "cell_type": "code",
   "execution_count": null,
   "metadata": {
    "id": "LdVJdNIQ51jT"
   },
   "outputs": [],
   "source": [
    "# -------------------------------\n",
    "# Blockchain Implementation\n",
    "# -------------------------------\n",
    "\n",
    "class Transaction:\n",
    "    def __init__(self, device_id, model_update, timestamp=None, signature=None):\n",
    "        self.device_id = device_id\n",
    "        self.model_update = model_update\n",
    "        self.timestamp = timestamp or time.time()\n",
    "        self.signature = signature or self.sign_transaction()\n",
    "\n",
    "    def sign_transaction(self):\n",
    "        \"\"\"Generate a cryptographic signature for the transaction\"\"\"\n",
    "        tx_str = f\"{self.device_id}{self.model_update}{self.timestamp}\"\n",
    "        return hashlib.sha256(tx_str.encode()).hexdigest()\n",
    "\n",
    "    def to_dict(self):\n",
    "        \"\"\"Return transaction data as a dictionary\"\"\"\n",
    "        return {\n",
    "            \"device_id\": self.device_id,\n",
    "            \"model_update\": self.model_update,\n",
    "            \"timestamp\": self.timestamp,\n",
    "            \"signature\": self.signature,\n",
    "        }"
   ]
  },
  {
   "cell_type": "code",
   "execution_count": null,
   "metadata": {
    "id": "jx6ov2Vx51jV"
   },
   "outputs": [],
   "source": [
    "class Block:\n",
    "    def __init__(self, index, transactions, previous_hash, timestamp=None, nonce=0):\n",
    "        self.index = index\n",
    "        self.transactions = transactions\n",
    "        self.previous_hash = previous_hash\n",
    "        self.timestamp = timestamp or time.time()\n",
    "        self.nonce = nonce\n",
    "        self.hash = self.compute_hash()\n",
    "\n",
    "    def compute_hash(self):\n",
    "        \"\"\"Generate SHA-256 hash for the block\"\"\"\n",
    "        block_content = {\n",
    "            \"index\": self.index,\n",
    "            \"transactions\": [tx.to_dict() for tx in self.transactions],\n",
    "            \"previous_hash\": self.previous_hash,\n",
    "            \"timestamp\": self.timestamp,\n",
    "            \"nonce\": self.nonce,\n",
    "        }\n",
    "        block_string = json.dumps(block_content, sort_keys=True)\n",
    "        return hashlib.sha256(block_string.encode()).hexdigest()"
   ]
  },
  {
   "cell_type": "code",
   "execution_count": null,
   "metadata": {
    "id": "q7WeLvff51jX"
   },
   "outputs": [],
   "source": [
    "class Blockchain:\n",
    "    def __init__(self, difficulty=2):\n",
    "        self.unconfirmed_transactions = []\n",
    "        self.chain = []\n",
    "        self.difficulty = difficulty\n",
    "        self.create_genesis_block()\n",
    "\n",
    "    def create_genesis_block(self):\n",
    "        \"\"\"Create the first block in the blockchain (Genesis Block)\"\"\"\n",
    "        genesis_block = Block(0, [], \"0\", time.time())\n",
    "        genesis_block.hash = genesis_block.compute_hash()\n",
    "        self.chain.append(genesis_block)\n",
    "\n",
    "    def last_block(self):\n",
    "        \"\"\"Retrieve the most recent block in the chain\"\"\"\n",
    "        return self.chain[-1]\n",
    "\n",
    "    def add_transaction(self, transaction):\n",
    "        \"\"\"Add a transaction to the pending transaction list\"\"\"\n",
    "        if self.verify_transaction(transaction):\n",
    "            self.unconfirmed_transactions.append(transaction)\n",
    "            print(f\"✅ Transaction Added: Device {transaction.device_id} at {time.ctime(transaction.timestamp)}\")\n",
    "            return True\n",
    "        print(f\"❌ Transaction Verification Failed for {transaction.device_id}\")\n",
    "        return False\n",
    "\n",
    "    def verify_transaction(self, transaction):\n",
    "        \"\"\"Verify that the transaction signature is valid\"\"\"\n",
    "        expected_signature = hashlib.sha256(\n",
    "            f\"{transaction.device_id}{transaction.model_update}{transaction.timestamp}\".encode()\n",
    "        ).hexdigest()\n",
    "        return transaction.signature == expected_signature\n",
    "\n",
    "    def proof_of_work(self, block):\n",
    "        \"\"\"Perform mining (Proof-of-Work) by finding a valid hash\"\"\"\n",
    "        block.nonce = 0\n",
    "        computed_hash = block.compute_hash()\n",
    "        while not computed_hash.startswith('0' * self.difficulty):\n",
    "            block.nonce += 1\n",
    "            computed_hash = block.compute_hash()\n",
    "        return computed_hash\n",
    "\n",
    "    def add_block(self, block, proof):\n",
    "        \"\"\"Validate and add a new block to the blockchain\"\"\"\n",
    "        if self.last_block().hash != block.previous_hash:\n",
    "            return False\n",
    "        if not proof.startswith('0' * self.difficulty) or proof != block.compute_hash():\n",
    "            return False\n",
    "        self.chain.append(block)\n",
    "        print(f\"🟢 Block {block.index} Mined: {block.hash}\")\n",
    "        return True\n",
    "\n",
    "    def mine(self):\n",
    "        \"\"\"Mine a new block from pending transactions\"\"\"\n",
    "        if not self.unconfirmed_transactions:\n",
    "            print(\"⛔ No transactions to mine\")\n",
    "            return None\n",
    "        new_block = Block(\n",
    "            index=self.last_block().index + 1,\n",
    "            transactions=self.unconfirmed_transactions,\n",
    "            previous_hash=self.last_block().hash\n",
    "        )\n",
    "        proof = self.proof_of_work(new_block)\n",
    "        self.add_block(new_block, proof)\n",
    "        self.unconfirmed_transactions = []  # Clear transaction pool after mining\n",
    "        return new_block\n"
   ]
  },
  {
   "cell_type": "code",
   "execution_count": null,
   "metadata": {
    "id": "MhuJCevD51jZ"
   },
   "outputs": [],
   "source": [
    "# -------------------------------\n",
    "# Deep Learning Model Definition\n",
    "# -------------------------------\n",
    "\n",
    "def create_model(input_dim):\n",
    "    model = Sequential([\n",
    "        Input(shape=(input_dim,)),\n",
    "        Dense(16, activation='relu'),\n",
    "        Dense(1, activation='sigmoid')  # Binary classification\n",
    "    ])\n",
    "    model.compile(optimizer=Adam(learning_rate=0.001), loss='binary_crossentropy', metrics=['accuracy'])\n",
    "    return model\n"
   ]
  },
  {
   "cell_type": "code",
   "execution_count": null,
   "metadata": {
    "id": "DtZoDXpC51jb"
   },
   "outputs": [],
   "source": [
    "# -------------------------------\n",
    "# Training and Blockchain Storage\n",
    "# -------------------------------\n",
    "\n",
    "def train_and_store(dataset_list, num_epochs=3, batch_size=32, save_path=\"models/\"):\n",
    "    blockchain = Blockchain(difficulty=2)\n",
    "    os.makedirs(save_path, exist_ok=True)\n",
    "\n",
    "    metrics = {\"Device\": [], \"Accuracy\": [], \"Precision\": [], \"Recall\": [], \"F1-Score\": [], \"AUC\": []}\n",
    "\n",
    "    print(\"\\n📊 Model Performance Metrics Summary:\")\n",
    "    print(\"=====================================\")\n",
    "\n",
    "    for device_id, dataset_path in enumerate(dataset_list, start=1):\n",
    "        print(f\"\\n🔹 Training Model for Device {device_id} ({dataset_path})\")\n",
    "\n",
    "        df = pd.read_csv(dataset_path, low_memory=False)\n",
    "        df_numeric = df.select_dtypes(include=[np.number])\n",
    "\n",
    "        X = df_numeric.iloc[:, :-1].values.astype(np.float32)\n",
    "        y = df_numeric.iloc[:, -1].values.astype(np.float32)\n",
    "        X = (X - X.min(axis=0)) / (X.max(axis=0) - X.min(axis=0) + 1e-8)  # Normalize\n",
    "\n",
    "        input_dim = X.shape[1]\n",
    "        model = create_model(input_dim)\n",
    "        model.fit(X, y, epochs=num_epochs, batch_size=batch_size, verbose=0)\n",
    "\n",
    "        # Save Model\n",
    "        model_filename = f\"{save_path}/device_{device_id}_model.h5\"\n",
    "        model.save(model_filename)\n",
    "        print(f\"💾 Model Saved: {model_filename}\")\n",
    "\n",
    "        # Evaluate Model\n",
    "        y_pred = (model.predict(X) > 0.5).astype(int)\n",
    "        accuracy = accuracy_score(y, y_pred)\n",
    "        precision = precision_score(y, y_pred, zero_division=1)\n",
    "        recall = recall_score(y, y_pred, zero_division=1)\n",
    "        f1 = f1_score(y, y_pred, zero_division=1)\n",
    "        auc = roc_auc_score(y, y_pred)\n",
    "\n",
    "        print(f\"\\nMetrics for Device {device_id}:\")\n",
    "        print(\"--------------------\")\n",
    "        print(f\"Accuracy:  {accuracy:.4f}\")\n",
    "        print(f\"Precision: {precision:.4f}\")\n",
    "        print(f\"Recall:    {recall:.4f}\")\n",
    "        print(f\"F1-Score:  {f1:.4f}\")\n",
    "        print(f\"AUC:      {auc:.4f}\")\n",
    "        print(\"--------------------\")\n",
    "\n",
    "        metrics[\"Device\"].append(f\"Device {device_id}\")\n",
    "        metrics[\"Accuracy\"].append(accuracy)\n",
    "        metrics[\"Precision\"].append(precision)\n",
    "        metrics[\"Recall\"].append(recall)\n",
    "        metrics[\"F1-Score\"].append(f1)\n",
    "        metrics[\"AUC\"].append(auc)\n",
    "\n",
    "        # Store on Blockchain\n",
    "        weights = model.get_weights()\n",
    "        transaction = Transaction(device_id=f\"Device_{device_id}\", model_update={\"weights\": [w.tolist() for w in weights]})\n",
    "        blockchain.add_transaction(transaction)\n",
    "        blockchain.mine()\n",
    "\n",
    "     # Add final summary table\n",
    "    print(\"\\n📈 Final Performance Summary:\")\n",
    "    print(\"============================\")\n",
    "    df_metrics = pd.DataFrame(metrics)\n",
    "    df_metrics = df_metrics.set_index('Device')\n",
    "    print(df_metrics.round(4).to_string())\n",
    "\n",
    "    # Plot Metrics\n",
    "    plot_metrics(metrics)\n",
    "\n",
    "def plot_metrics(metrics):\n",
    "    plt.figure(figsize=(10, 5))\n",
    "    for metric in [\"Accuracy\", \"Precision\", \"Recall\", \"F1-Score\", \"AUC\"]:\n",
    "        plt.plot(metrics[\"Device\"], metrics[metric], marker='o', label=metric)\n",
    "\n",
    "    plt.xlabel(\"Devices\")\n",
    "    plt.ylabel(\"Scores\")\n",
    "    plt.title(\"Model Performance Across IIoT Devices\")\n",
    "    plt.legend()\n",
    "    plt.grid()\n",
    "    plt.show()\n"
   ]
  },
  {
   "cell_type": "code",
   "execution_count": null,
   "metadata": {
    "id": "nF8S2YR251je",
    "outputId": "3c919952-3c5e-4922-838e-d88e541d1169"
   },
   "outputs": [
    {
     "name": "stdout",
     "output_type": "stream",
     "text": [
      "\n",
      "📊 Model Performance Metrics Summary:\n",
      "=====================================\n",
      "\n",
      "🔹 Training Model for Device 1 (datasets/ML-EdgeIIoT-dataset.csv)\n"
     ]
    },
    {
     "name": "stderr",
     "output_type": "stream",
     "text": [
      "WARNING:absl:You are saving your model as an HDF5 file via `model.save()` or `keras.saving.save_model(model)`. This file format is considered legacy. We recommend using instead the native Keras format, e.g. `model.save('my_model.keras')` or `keras.saving.save_model(model, 'my_model.keras')`. \n"
     ]
    },
    {
     "name": "stdout",
     "output_type": "stream",
     "text": [
      "💾 Model Saved: models//device_1_model.h5\n",
      "\u001b[1m4932/4932\u001b[0m \u001b[32m━━━━━━━━━━━━━━━━━━━━\u001b[0m\u001b[37m\u001b[0m \u001b[1m4s\u001b[0m 727us/step\n",
      "\n",
      "Metrics for Device 1:\n",
      "--------------------\n",
      "Accuracy:  0.9083\n",
      "Precision: 0.9065\n",
      "Recall:    0.9942\n",
      "F1-Score:  0.9483\n",
      "AUC:      0.7154\n",
      "--------------------\n",
      "✅ Transaction Added: Device Device_1 at Sat Mar 15 00:44:45 2025\n",
      "🟢 Block 1 Mined: c1beefe6180b651535dc5a6f294f9f4a18e95031b846431450d9d1159278ed4a\n",
      "\n",
      "🔹 Training Model for Device 2 (datasets/wustl_iiot_2021.csv)\n"
     ]
    },
    {
     "name": "stderr",
     "output_type": "stream",
     "text": [
      "WARNING:absl:You are saving your model as an HDF5 file via `model.save()` or `keras.saving.save_model(model)`. This file format is considered legacy. We recommend using instead the native Keras format, e.g. `model.save('my_model.keras')` or `keras.saving.save_model(model, 'my_model.keras')`. \n"
     ]
    },
    {
     "name": "stdout",
     "output_type": "stream",
     "text": [
      "💾 Model Saved: models//device_2_model.h5\n",
      "\u001b[1m37327/37327\u001b[0m \u001b[32m━━━━━━━━━━━━━━━━━━━━\u001b[0m\u001b[37m\u001b[0m \u001b[1m22s\u001b[0m 591us/step\n",
      "\n",
      "Metrics for Device 2:\n",
      "--------------------\n",
      "Accuracy:  0.9996\n",
      "Precision: 0.9983\n",
      "Recall:    0.9959\n",
      "F1-Score:  0.9971\n",
      "AUC:      0.9979\n",
      "--------------------\n",
      "✅ Transaction Added: Device Device_2 at Sat Mar 15 00:47:43 2025\n",
      "🟢 Block 2 Mined: cdecabd038b5d8aff7f0b0dfb66f161fcc67097c240b354c378638f50a19da15\n",
      "\n",
      "🔹 Training Model for Device 3 (datasets/X-IIoTID dataset.csv)\n"
     ]
    },
    {
     "name": "stderr",
     "output_type": "stream",
     "text": [
      "WARNING:absl:You are saving your model as an HDF5 file via `model.save()` or `keras.saving.save_model(model)`. This file format is considered legacy. We recommend using instead the native Keras format, e.g. `model.save('my_model.keras')` or `keras.saving.save_model(model, 'my_model.keras')`. \n"
     ]
    },
    {
     "name": "stdout",
     "output_type": "stream",
     "text": [
      "💾 Model Saved: models//device_3_model.h5\n",
      "\u001b[1m25652/25652\u001b[0m \u001b[32m━━━━━━━━━━━━━━━━━━━━\u001b[0m\u001b[37m\u001b[0m \u001b[1m15s\u001b[0m 590us/step\n",
      "\n",
      "Metrics for Device 3:\n",
      "--------------------\n",
      "Accuracy:  0.9997\n",
      "Precision: 0.9967\n",
      "Recall:    1.0000\n",
      "F1-Score:  0.9983\n",
      "AUC:      0.9999\n",
      "--------------------\n",
      "✅ Transaction Added: Device Device_3 at Sat Mar 15 00:49:50 2025\n",
      "🟢 Block 3 Mined: b801c07114e2d2aefc5d8f960dd1f6df6d1ea846247668c64d02323c9cad4448\n",
      "\n",
      "🔹 Training Model for Device 4 (datasets/DNN-EdgeIIoT-dataset.csv)\n"
     ]
    },
    {
     "name": "stderr",
     "output_type": "stream",
     "text": [
      "WARNING:absl:You are saving your model as an HDF5 file via `model.save()` or `keras.saving.save_model(model)`. This file format is considered legacy. We recommend using instead the native Keras format, e.g. `model.save('my_model.keras')` or `keras.saving.save_model(model, 'my_model.keras')`. \n"
     ]
    },
    {
     "name": "stdout",
     "output_type": "stream",
     "text": [
      "💾 Model Saved: models//device_4_model.h5\n",
      "\u001b[1m69351/69351\u001b[0m \u001b[32m━━━━━━━━━━━━━━━━━━━━\u001b[0m\u001b[37m\u001b[0m \u001b[1m44s\u001b[0m 635us/step\n",
      "\n",
      "Metrics for Device 4:\n",
      "--------------------\n",
      "Accuracy:  0.9726\n",
      "Precision: 0.9984\n",
      "Recall:    0.9007\n",
      "F1-Score:  0.9470\n",
      "AUC:      0.9501\n",
      "--------------------\n",
      "✅ Transaction Added: Device Device_4 at Sat Mar 15 00:55:39 2025\n",
      "🟢 Block 4 Mined: a844ba96d459f00ff35f824a37ceafe2bdc5007d64eaabecae8793e7c5a1c2d8\n",
      "\n",
      "📈 Final Performance Summary:\n",
      "============================\n",
      "          Accuracy  Precision  Recall  F1-Score     AUC\n",
      "Device                                                 \n",
      "Device 1    0.9083     0.9065  0.9942    0.9483  0.7154\n",
      "Device 2    0.9996     0.9983  0.9959    0.9971  0.9979\n",
      "Device 3    0.9997     0.9967  1.0000    0.9983  0.9999\n",
      "Device 4    0.9726     0.9984  0.9007    0.9470  0.9501\n"
     ]
    },
    {
     "data": {
      "image/png": "[encoded data removed]",
      "text/plain": [
       "<Figure size 1000x500 with 1 Axes>"
      ]
     },
     "metadata": {},
     "output_type": "display_data"
    }
   ],
   "source": [
    "# -------------------------------\n",
    "# Run the Training Process\n",
    "# -------------------------------\n",
    "\n",
    "if __name__ == \"__main__\":\n",
    "    dataset_folder = \"datasets/\"\n",
    "    dataset_list = [os.path.join(dataset_folder, f) for f in os.listdir(dataset_folder) if f.endswith(\".csv\")]\n",
    "\n",
    "    if len(dataset_list) < 1:\n",
    "        print(\"⛔ Error: No datasets found in 'datasets/' folder!\")\n",
    "    else:\n",
    "        train_and_store(dataset_list)"
   ]
  },
  {
   "cell_type": "code",
   "execution_count": null,
   "metadata": {
    "id": "xlvGrZ0e51jh"
   },
   "outputs": [],
   "source": []
  }
 ],
 "metadata": {
  "colab": {
   "provenance": []
  },
  "kernelspec": {
   "display_name": "Python 3",
   "language": "python",
   "name": "python3"
  },
  "language_info": {
   "codemirror_mode": {
    "name": "ipython",
    "version": 3
   },
   "file_extension": ".py",
   "mimetype": "text/x-python",
   "name": "python",
   "nbconvert_exporter": "python",
   "pygments_lexer": "ipython3",
   "version": "3.12.5"
  }
 },
 "nbformat": 4,
 "nbformat_minor": 0
}
